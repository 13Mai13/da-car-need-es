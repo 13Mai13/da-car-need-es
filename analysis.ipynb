{
 "cells": [
  {
   "cell_type": "markdown",
   "id": "c5d50962-d96d-45c0-beda-f1e405302309",
   "metadata": {},
   "source": [
    "# Does half of the population of Spain need a car? "
   ]
  },
  {
   "cell_type": "code",
   "execution_count": 1,
   "id": "b25c8bda-0d4b-4c46-9049-5d2de950285e",
   "metadata": {},
   "outputs": [],
   "source": [
    "import pandas as pd\n",
    "import numpy as np\n",
    "import pathlib\n",
    "import missingno as msno\n",
    "import seaborn as sns\n",
    "import matplotlib.pyplot as plt\n",
    "import os\n",
    "\n",
    "from scipy.stats import kurtosis\n",
    "from scipy.stats import skew"
   ]
  },
  {
   "cell_type": "code",
   "execution_count": 2,
   "id": "42c73886-9379-4f67-9463-404c20916507",
   "metadata": {
    "tags": []
   },
   "outputs": [],
   "source": [
    "path = pathlib.Path().parent.absolute()"
   ]
  },
  {
   "cell_type": "markdown",
   "id": "0b7199d5-ef0f-4bc7-8fb0-85f61ed49c48",
   "metadata": {
    "tags": []
   },
   "source": [
    "## Population data"
   ]
  },
  {
   "cell_type": "code",
   "execution_count": 3,
   "id": "a0a6a37e-0cc4-4f36-85b7-dc6aaa5d350a",
   "metadata": {
    "tags": []
   },
   "outputs": [],
   "source": [
    "population_data = pd.read_excel(f'{path}/data/pobmun21.xlsx', header=1)"
   ]
  },
  {
   "cell_type": "code",
   "execution_count": 4,
   "id": "81cb234f-346b-459f-a4a6-c69d195f9ec5",
   "metadata": {},
   "outputs": [
    {
     "data": {
      "text/html": [
       "<div>\n",
       "<style scoped>\n",
       "    .dataframe tbody tr th:only-of-type {\n",
       "        vertical-align: middle;\n",
       "    }\n",
       "\n",
       "    .dataframe tbody tr th {\n",
       "        vertical-align: top;\n",
       "    }\n",
       "\n",
       "    .dataframe thead th {\n",
       "        text-align: right;\n",
       "    }\n",
       "</style>\n",
       "<table border=\"1\" class=\"dataframe\">\n",
       "  <thead>\n",
       "    <tr style=\"text-align: right;\">\n",
       "      <th></th>\n",
       "      <th>CPRO</th>\n",
       "      <th>PROVINCIA</th>\n",
       "      <th>CMUN</th>\n",
       "      <th>NOMBRE</th>\n",
       "      <th>POB21</th>\n",
       "      <th>HOMBRES</th>\n",
       "      <th>MUJERES</th>\n",
       "    </tr>\n",
       "  </thead>\n",
       "  <tbody>\n",
       "    <tr>\n",
       "      <th>0</th>\n",
       "      <td>2</td>\n",
       "      <td>Albacete</td>\n",
       "      <td>1</td>\n",
       "      <td>Abengibre</td>\n",
       "      <td>748</td>\n",
       "      <td>365</td>\n",
       "      <td>383</td>\n",
       "    </tr>\n",
       "    <tr>\n",
       "      <th>1</th>\n",
       "      <td>2</td>\n",
       "      <td>Albacete</td>\n",
       "      <td>2</td>\n",
       "      <td>Alatoz</td>\n",
       "      <td>496</td>\n",
       "      <td>272</td>\n",
       "      <td>224</td>\n",
       "    </tr>\n",
       "    <tr>\n",
       "      <th>2</th>\n",
       "      <td>2</td>\n",
       "      <td>Albacete</td>\n",
       "      <td>3</td>\n",
       "      <td>Albacete</td>\n",
       "      <td>172722</td>\n",
       "      <td>84365</td>\n",
       "      <td>88357</td>\n",
       "    </tr>\n",
       "    <tr>\n",
       "      <th>3</th>\n",
       "      <td>2</td>\n",
       "      <td>Albacete</td>\n",
       "      <td>4</td>\n",
       "      <td>Albatana</td>\n",
       "      <td>681</td>\n",
       "      <td>354</td>\n",
       "      <td>327</td>\n",
       "    </tr>\n",
       "    <tr>\n",
       "      <th>4</th>\n",
       "      <td>2</td>\n",
       "      <td>Albacete</td>\n",
       "      <td>5</td>\n",
       "      <td>Alborea</td>\n",
       "      <td>670</td>\n",
       "      <td>350</td>\n",
       "      <td>320</td>\n",
       "    </tr>\n",
       "  </tbody>\n",
       "</table>\n",
       "</div>"
      ],
      "text/plain": [
       "   CPRO PROVINCIA  CMUN     NOMBRE   POB21  HOMBRES  MUJERES\n",
       "0     2  Albacete     1  Abengibre     748      365      383\n",
       "1     2  Albacete     2     Alatoz     496      272      224\n",
       "2     2  Albacete     3   Albacete  172722    84365    88357\n",
       "3     2  Albacete     4   Albatana     681      354      327\n",
       "4     2  Albacete     5    Alborea     670      350      320"
      ]
     },
     "execution_count": 4,
     "metadata": {},
     "output_type": "execute_result"
    }
   ],
   "source": [
    "population_data.head()"
   ]
  },
  {
   "cell_type": "code",
   "execution_count": 5,
   "id": "3a879727-30e7-4ecd-9b7b-f01e38f22d98",
   "metadata": {},
   "outputs": [
    {
     "data": {
      "text/plain": [
       "CPRO          int64\n",
       "PROVINCIA    object\n",
       "CMUN          int64\n",
       "NOMBRE       object\n",
       "POB21         int64\n",
       "HOMBRES       int64\n",
       "MUJERES       int64\n",
       "dtype: object"
      ]
     },
     "execution_count": 5,
     "metadata": {},
     "output_type": "execute_result"
    }
   ],
   "source": [
    "population_data.dtypes"
   ]
  },
  {
   "cell_type": "markdown",
   "id": "9aed4688-2422-444f-b042-9acc682ecc63",
   "metadata": {
    "tags": []
   },
   "source": [
    "### Missing value: None"
   ]
  },
  {
   "cell_type": "code",
   "execution_count": 6,
   "id": "2defc8e4-a926-49ac-9e0e-b81207c2acd0",
   "metadata": {},
   "outputs": [
    {
     "data": {
      "text/plain": [
       "<AxesSubplot:>"
      ]
     },
     "execution_count": 6,
     "metadata": {},
     "output_type": "execute_result"
    },
    {
     "data": {
      "image/png": "[encoded data removed]",
      "text/plain": [
       "<Figure size 2500x1000 with 2 Axes>"
      ]
     },
     "metadata": {},
     "output_type": "display_data"
    }
   ],
   "source": [
    "msno.matrix(population_data)"
   ]
  },
  {
   "cell_type": "markdown",
   "id": "8aca9603-a17b-4442-9491-b6bbee60cec1",
   "metadata": {},
   "source": [
    "### Stats"
   ]
  },
  {
   "cell_type": "code",
   "execution_count": 7,
   "id": "f2f9d903-26d3-4b0d-b8e8-1f832605b82c",
   "metadata": {},
   "outputs": [
    {
     "name": "stdout",
     "output_type": "stream",
     "text": [
      "the total population is: 47385107\n"
     ]
    }
   ],
   "source": [
    "total_population = population_data[\"POB21\"].sum()\n",
    "print(f'the total population is: {total_population}')"
   ]
  },
  {
   "cell_type": "code",
   "execution_count": 8,
   "id": "1efef59f-1c74-4c40-a42a-c99f8e00a615",
   "metadata": {
    "tags": []
   },
   "outputs": [
    {
     "data": {
      "text/html": [
       "<div>\n",
       "<style scoped>\n",
       "    .dataframe tbody tr th:only-of-type {\n",
       "        vertical-align: middle;\n",
       "    }\n",
       "\n",
       "    .dataframe tbody tr th {\n",
       "        vertical-align: top;\n",
       "    }\n",
       "\n",
       "    .dataframe thead th {\n",
       "        text-align: right;\n",
       "    }\n",
       "</style>\n",
       "<table border=\"1\" class=\"dataframe\">\n",
       "  <thead>\n",
       "    <tr style=\"text-align: right;\">\n",
       "      <th></th>\n",
       "      <th>CPRO</th>\n",
       "      <th>CMUN</th>\n",
       "      <th>POB21</th>\n",
       "      <th>HOMBRES</th>\n",
       "      <th>MUJERES</th>\n",
       "    </tr>\n",
       "  </thead>\n",
       "  <tbody>\n",
       "    <tr>\n",
       "      <th>count</th>\n",
       "      <td>8131.000000</td>\n",
       "      <td>8131.000000</td>\n",
       "      <td>8.131000e+03</td>\n",
       "      <td>8.131000e+03</td>\n",
       "      <td>8.131000e+03</td>\n",
       "    </tr>\n",
       "    <tr>\n",
       "      <th>mean</th>\n",
       "      <td>26.657115</td>\n",
       "      <td>131.071578</td>\n",
       "      <td>5.827710e+03</td>\n",
       "      <td>2.856100e+03</td>\n",
       "      <td>2.971609e+03</td>\n",
       "    </tr>\n",
       "    <tr>\n",
       "      <th>std</th>\n",
       "      <td>14.893232</td>\n",
       "      <td>145.940790</td>\n",
       "      <td>4.784572e+04</td>\n",
       "      <td>2.256291e+04</td>\n",
       "      <td>2.528956e+04</td>\n",
       "    </tr>\n",
       "    <tr>\n",
       "      <th>min</th>\n",
       "      <td>1.000000</td>\n",
       "      <td>1.000000</td>\n",
       "      <td>3.000000e+00</td>\n",
       "      <td>3.000000e+00</td>\n",
       "      <td>0.000000e+00</td>\n",
       "    </tr>\n",
       "    <tr>\n",
       "      <th>25%</th>\n",
       "      <td>13.000000</td>\n",
       "      <td>43.000000</td>\n",
       "      <td>1.530000e+02</td>\n",
       "      <td>8.400000e+01</td>\n",
       "      <td>6.900000e+01</td>\n",
       "    </tr>\n",
       "    <tr>\n",
       "      <th>50%</th>\n",
       "      <td>26.000000</td>\n",
       "      <td>95.000000</td>\n",
       "      <td>5.230000e+02</td>\n",
       "      <td>2.760000e+02</td>\n",
       "      <td>2.480000e+02</td>\n",
       "    </tr>\n",
       "    <tr>\n",
       "      <th>75%</th>\n",
       "      <td>41.000000</td>\n",
       "      <td>176.000000</td>\n",
       "      <td>2.416000e+03</td>\n",
       "      <td>1.218000e+03</td>\n",
       "      <td>1.191000e+03</td>\n",
       "    </tr>\n",
       "    <tr>\n",
       "      <th>max</th>\n",
       "      <td>52.000000</td>\n",
       "      <td>916.000000</td>\n",
       "      <td>3.305408e+06</td>\n",
       "      <td>1.540894e+06</td>\n",
       "      <td>1.764514e+06</td>\n",
       "    </tr>\n",
       "  </tbody>\n",
       "</table>\n",
       "</div>"
      ],
      "text/plain": [
       "              CPRO         CMUN         POB21       HOMBRES       MUJERES\n",
       "count  8131.000000  8131.000000  8.131000e+03  8.131000e+03  8.131000e+03\n",
       "mean     26.657115   131.071578  5.827710e+03  2.856100e+03  2.971609e+03\n",
       "std      14.893232   145.940790  4.784572e+04  2.256291e+04  2.528956e+04\n",
       "min       1.000000     1.000000  3.000000e+00  3.000000e+00  0.000000e+00\n",
       "25%      13.000000    43.000000  1.530000e+02  8.400000e+01  6.900000e+01\n",
       "50%      26.000000    95.000000  5.230000e+02  2.760000e+02  2.480000e+02\n",
       "75%      41.000000   176.000000  2.416000e+03  1.218000e+03  1.191000e+03\n",
       "max      52.000000   916.000000  3.305408e+06  1.540894e+06  1.764514e+06"
      ]
     },
     "execution_count": 8,
     "metadata": {},
     "output_type": "execute_result"
    }
   ],
   "source": [
    "population_data.describe()"
   ]
  },
  {
   "cell_type": "code",
   "execution_count": 9,
   "id": "e365194a-6b25-4e11-a9ef-62a644fe31f5",
   "metadata": {},
   "outputs": [
    {
     "name": "stdout",
     "output_type": "stream",
     "text": [
      " Skewness :47.41815348407572\n",
      " Kurtosis :2971.2310952120797\n"
     ]
    }
   ],
   "source": [
    "print(f' Skewness :{skew(population_data[\"POB21\"], axis=0, bias=True)}')\n",
    "print(f' Kurtosis :{kurtosis(population_data[\"POB21\"], axis=0, bias=True)}')"
   ]
  },
  {
   "cell_type": "markdown",
   "id": "fa412210-3d53-4231-b802-b066b1b7b259",
   "metadata": {},
   "source": [
    "##### Conclusion 1: None symetric & long tail"
   ]
  },
  {
   "cell_type": "markdown",
   "id": "653ecf11-9854-4497-9cd8-435fefa30b6c",
   "metadata": {},
   "source": [
    "### Outliers"
   ]
  },
  {
   "cell_type": "code",
   "execution_count": 10,
   "id": "fdd4db26-57f2-4ec9-a325-4fb6a3e04c24",
   "metadata": {},
   "outputs": [
    {
     "data": {
      "image/png": "[encoded data removed]",
      "text/plain": [
       "<Figure size 640x480 with 1 Axes>"
      ]
     },
     "metadata": {},
     "output_type": "display_data"
    }
   ],
   "source": [
    "ax = sns.boxplot(x=population_data[\"POB21\"])"
   ]
  },
  {
   "cell_type": "code",
   "execution_count": 11,
   "id": "cc81090d-be2c-44cb-b875-044925f217df",
   "metadata": {},
   "outputs": [
    {
     "name": "stdout",
     "output_type": "stream",
     "text": [
      "95 Quantile: 84019.0 \n"
     ]
    }
   ],
   "source": [
    "q_hi  = population_data[\"POB21\"].quantile(0.99)\n",
    "print(f\"95 Quantile: {q_hi} \")\n",
    "population_data_filtered = population_data[population_data[\"POB21\"] < q_hi]\n",
    "population_data_outlier = population_data[population_data[\"POB21\"] >= q_hi]"
   ]
  },
  {
   "cell_type": "code",
   "execution_count": 12,
   "id": "cfd84783-0812-4945-a5e6-30161618e20d",
   "metadata": {
    "tags": []
   },
   "outputs": [
    {
     "data": {
      "text/plain": [
       "<seaborn.axisgrid.FacetGrid at 0x129243760>"
      ]
     },
     "execution_count": 12,
     "metadata": {},
     "output_type": "execute_result"
    },
    {
     "data": {
      "image/png": "[encoded data removed]",
      "text/plain": [
       "<Figure size 500x500 with 1 Axes>"
      ]
     },
     "metadata": {},
     "output_type": "display_data"
    }
   ],
   "source": [
    "sns.displot(population_data_filtered, x=\"POB21\")"
   ]
  },
  {
   "cell_type": "code",
   "execution_count": 13,
   "id": "2cf72567-0c45-48bd-92e2-851333649bed",
   "metadata": {},
   "outputs": [
    {
     "data": {
      "text/plain": [
       "(8049, 7)"
      ]
     },
     "execution_count": 13,
     "metadata": {},
     "output_type": "execute_result"
    }
   ],
   "source": [
    "population_data_filtered.shape"
   ]
  },
  {
   "cell_type": "code",
   "execution_count": 14,
   "id": "79c7ad94-04d8-4598-95dc-8a29c394dd04",
   "metadata": {},
   "outputs": [],
   "source": [
    "total_in_none_outliers = population_data_filtered[\"POB21\"].sum()"
   ]
  },
  {
   "cell_type": "code",
   "execution_count": 15,
   "id": "123e831c-4c6e-4d02-a5d5-3bbdade17815",
   "metadata": {},
   "outputs": [
    {
     "data": {
      "text/plain": [
       "<seaborn.axisgrid.FacetGrid at 0x129365150>"
      ]
     },
     "execution_count": 15,
     "metadata": {},
     "output_type": "execute_result"
    },
    {
     "data": {
      "image/png": "[encoded data removed]",
      "text/plain": [
       "<Figure size 500x500 with 1 Axes>"
      ]
     },
     "metadata": {},
     "output_type": "display_data"
    }
   ],
   "source": [
    "sns.displot(population_data_outlier, x=\"POB21\")"
   ]
  },
  {
   "cell_type": "code",
   "execution_count": 16,
   "id": "4911131b-d841-47eb-9253-8c06f05ab4da",
   "metadata": {},
   "outputs": [
    {
     "data": {
      "text/plain": [
       "(82, 7)"
      ]
     },
     "execution_count": 16,
     "metadata": {},
     "output_type": "execute_result"
    }
   ],
   "source": [
    "population_data_outlier.shape"
   ]
  },
  {
   "cell_type": "code",
   "execution_count": 17,
   "id": "818ca03b-dcac-472a-9a4d-f26842f4c93a",
   "metadata": {},
   "outputs": [],
   "source": [
    "total_in_outliers = population_data_outlier[\"POB21\"].sum()"
   ]
  },
  {
   "cell_type": "markdown",
   "id": "13fa8049-bff0-49b1-a94b-fcb7d7466f72",
   "metadata": {},
   "source": [
    "##### Conlusion 2: More people live in none outlier areas"
   ]
  },
  {
   "cell_type": "code",
   "execution_count": 18,
   "id": "6873dbd5-52fc-4eb2-aa5d-33920702f473",
   "metadata": {
    "tags": []
   },
   "outputs": [
    {
     "name": "stdout",
     "output_type": "stream",
     "text": [
      "Being 47385107 the total population: 20619986, 43.51575274484449 % lives in outlier cities, while  26765121, 56.48424725515551 % lives in none outlier areas\n"
     ]
    }
   ],
   "source": [
    "print(f'Being {total_population} the total population: {total_in_outliers}, {total_in_outliers/total_population * 100} % lives in outlier cities, while  {total_in_none_outliers}, {total_in_none_outliers/total_population * 100} % lives in none outlier areas')"
   ]
  },
  {
   "cell_type": "markdown",
   "id": "9d18d260-df27-4e8e-8291-06320b16aca3",
   "metadata": {},
   "source": [
    "### Closer look"
   ]
  },
  {
   "cell_type": "code",
   "execution_count": 19,
   "id": "9c8206ea-c330-496b-b664-6a59191e244d",
   "metadata": {},
   "outputs": [
    {
     "data": {
      "text/html": [
       "<div>\n",
       "<style scoped>\n",
       "    .dataframe tbody tr th:only-of-type {\n",
       "        vertical-align: middle;\n",
       "    }\n",
       "\n",
       "    .dataframe tbody tr th {\n",
       "        vertical-align: top;\n",
       "    }\n",
       "\n",
       "    .dataframe thead th {\n",
       "        text-align: right;\n",
       "    }\n",
       "</style>\n",
       "<table border=\"1\" class=\"dataframe\">\n",
       "  <thead>\n",
       "    <tr style=\"text-align: right;\">\n",
       "      <th></th>\n",
       "      <th>CPRO</th>\n",
       "      <th>CMUN</th>\n",
       "      <th>POB21</th>\n",
       "      <th>HOMBRES</th>\n",
       "      <th>MUJERES</th>\n",
       "    </tr>\n",
       "  </thead>\n",
       "  <tbody>\n",
       "    <tr>\n",
       "      <th>count</th>\n",
       "      <td>82.000000</td>\n",
       "      <td>82.000000</td>\n",
       "      <td>8.200000e+01</td>\n",
       "      <td>8.200000e+01</td>\n",
       "      <td>8.200000e+01</td>\n",
       "    </tr>\n",
       "    <tr>\n",
       "      <th>mean</th>\n",
       "      <td>24.012195</td>\n",
       "      <td>79.451220</td>\n",
       "      <td>2.514632e+05</td>\n",
       "      <td>1.202809e+05</td>\n",
       "      <td>1.311824e+05</td>\n",
       "    </tr>\n",
       "    <tr>\n",
       "      <th>std</th>\n",
       "      <td>13.746824</td>\n",
       "      <td>72.314838</td>\n",
       "      <td>4.012241e+05</td>\n",
       "      <td>1.878282e+05</td>\n",
       "      <td>2.134337e+05</td>\n",
       "    </tr>\n",
       "    <tr>\n",
       "      <th>min</th>\n",
       "      <td>1.000000</td>\n",
       "      <td>1.000000</td>\n",
       "      <td>8.402500e+04</td>\n",
       "      <td>4.075300e+04</td>\n",
       "      <td>4.263600e+04</td>\n",
       "    </tr>\n",
       "    <tr>\n",
       "      <th>25%</th>\n",
       "      <td>11.000000</td>\n",
       "      <td>24.000000</td>\n",
       "      <td>1.021412e+05</td>\n",
       "      <td>4.956100e+04</td>\n",
       "      <td>5.265100e+04</td>\n",
       "    </tr>\n",
       "    <tr>\n",
       "      <th>50%</th>\n",
       "      <td>28.000000</td>\n",
       "      <td>62.000000</td>\n",
       "      <td>1.544090e+05</td>\n",
       "      <td>7.452950e+04</td>\n",
       "      <td>8.061950e+04</td>\n",
       "    </tr>\n",
       "    <tr>\n",
       "      <th>75%</th>\n",
       "      <td>32.750000</td>\n",
       "      <td>112.750000</td>\n",
       "      <td>2.230098e+05</td>\n",
       "      <td>1.090982e+05</td>\n",
       "      <td>1.160390e+05</td>\n",
       "    </tr>\n",
       "    <tr>\n",
       "      <th>max</th>\n",
       "      <td>52.000000</td>\n",
       "      <td>297.000000</td>\n",
       "      <td>3.305408e+06</td>\n",
       "      <td>1.540894e+06</td>\n",
       "      <td>1.764514e+06</td>\n",
       "    </tr>\n",
       "  </tbody>\n",
       "</table>\n",
       "</div>"
      ],
      "text/plain": [
       "            CPRO        CMUN         POB21       HOMBRES       MUJERES\n",
       "count  82.000000   82.000000  8.200000e+01  8.200000e+01  8.200000e+01\n",
       "mean   24.012195   79.451220  2.514632e+05  1.202809e+05  1.311824e+05\n",
       "std    13.746824   72.314838  4.012241e+05  1.878282e+05  2.134337e+05\n",
       "min     1.000000    1.000000  8.402500e+04  4.075300e+04  4.263600e+04\n",
       "25%    11.000000   24.000000  1.021412e+05  4.956100e+04  5.265100e+04\n",
       "50%    28.000000   62.000000  1.544090e+05  7.452950e+04  8.061950e+04\n",
       "75%    32.750000  112.750000  2.230098e+05  1.090982e+05  1.160390e+05\n",
       "max    52.000000  297.000000  3.305408e+06  1.540894e+06  1.764514e+06"
      ]
     },
     "execution_count": 19,
     "metadata": {},
     "output_type": "execute_result"
    }
   ],
   "source": [
    "population_data_outlier.describe()"
   ]
  },
  {
   "cell_type": "code",
   "execution_count": 20,
   "id": "530734a5-f65e-4257-832f-a6a6ef3ae345",
   "metadata": {},
   "outputs": [
    {
     "name": "stdout",
     "output_type": "stream",
     "text": [
      " Skewness :6.034423286489228\n",
      " Kurtosis :40.81587320547154\n"
     ]
    }
   ],
   "source": [
    "print(f' Skewness :{skew(population_data_outlier[\"POB21\"], axis=0, bias=True)}')\n",
    "print(f' Kurtosis :{kurtosis(population_data_outlier[\"POB21\"], axis=0, bias=True)}')"
   ]
  },
  {
   "cell_type": "markdown",
   "id": "e105f925-c78f-48ca-8372-02b65d836979",
   "metadata": {},
   "source": [
    "The tail is still very long"
   ]
  },
  {
   "cell_type": "code",
   "execution_count": 21,
   "id": "48d2e829-2ef1-4cbf-8d4e-b3b6bf13417d",
   "metadata": {
    "tags": []
   },
   "outputs": [
    {
     "data": {
      "image/png": "[encoded data removed]",
      "text/plain": [
       "<Figure size 640x480 with 1 Axes>"
      ]
     },
     "metadata": {},
     "output_type": "display_data"
    }
   ],
   "source": [
    "ax = sns.boxplot(x=population_data_outlier[\"POB21\"])"
   ]
  },
  {
   "cell_type": "code",
   "execution_count": 22,
   "id": "c5d0bf8d-5faf-4600-8dce-144d8f326f97",
   "metadata": {},
   "outputs": [
    {
     "name": "stdout",
     "output_type": "stream",
     "text": [
      "The number of towns with less than 5000 are 6818, with the total of 5687092 people representing 12.002 % of the population\n",
      "The number of towns with less than 10000 are 553, with the total of 3902355 people representing 8.235 % of the population\n",
      "The number of towns with less than 50000 are 611, with the total of 12731808 people representing 26.869 % of the population\n",
      "The number of towns with less than 100000 are 86, with the total of 6178689 people representing 13.039 % of the population\n",
      "The number of towns with less than 500000 are 57, with the total of 11216339 people representing 23.671 % of the population\n",
      "The number of towns with less than 1000000 are 4, with the total of 2726684 people representing 5.754 % of the population\n",
      "The number of towns with less than 1000000 are 2, with the total of 4942140 people representing 10.43 % of the population\n"
     ]
    }
   ],
   "source": [
    "grid = [0, 5000, 10000, 50000, 100000, 500000, 1000000]\n",
    "for pos in range(0, len(grid)-1, 1): \n",
    "    grid[pos: pos + 2]\n",
    "    threshold, next_threshold = grid[pos: pos + 2][0], grid[pos: pos + 2][1]\n",
    "    data = population_data[(population_data[\"POB21\"] >= threshold) & (population_data[\"POB21\"] < next_threshold)]\n",
    "    print(f'The number of towns with less than {next_threshold} are {data.shape[0]}, with the total of {data[\"POB21\"].sum()} people representing {round(data[\"POB21\"].sum() / total_population * 100, 3)} % of the population')\n",
    "data = population_data[(population_data[\"POB21\"] >= 1000000)]\n",
    "print(f'The number of towns with less than {next_threshold} are {data.shape[0]}, with the total of {data[\"POB21\"].sum()} people representing {round(data[\"POB21\"].sum() / total_population * 100, 3)} % of the population')"
   ]
  },
  {
   "cell_type": "code",
   "execution_count": 23,
   "id": "04433f63-3c67-412f-b822-25e53ed8dcef",
   "metadata": {},
   "outputs": [
    {
     "data": {
      "text/html": [
       "<div>\n",
       "<style scoped>\n",
       "    .dataframe tbody tr th:only-of-type {\n",
       "        vertical-align: middle;\n",
       "    }\n",
       "\n",
       "    .dataframe tbody tr th {\n",
       "        vertical-align: top;\n",
       "    }\n",
       "\n",
       "    .dataframe thead th {\n",
       "        text-align: right;\n",
       "    }\n",
       "</style>\n",
       "<table border=\"1\" class=\"dataframe\">\n",
       "  <thead>\n",
       "    <tr style=\"text-align: right;\">\n",
       "      <th></th>\n",
       "      <th>CPRO</th>\n",
       "      <th>PROVINCIA</th>\n",
       "      <th>CMUN</th>\n",
       "      <th>NOMBRE</th>\n",
       "      <th>POB21</th>\n",
       "      <th>HOMBRES</th>\n",
       "      <th>MUJERES</th>\n",
       "    </tr>\n",
       "  </thead>\n",
       "  <tbody>\n",
       "    <tr>\n",
       "      <th>960</th>\n",
       "      <td>8</td>\n",
       "      <td>Barcelona</td>\n",
       "      <td>19</td>\n",
       "      <td>Barcelona</td>\n",
       "      <td>1636732</td>\n",
       "      <td>778744</td>\n",
       "      <td>857988</td>\n",
       "    </tr>\n",
       "    <tr>\n",
       "      <th>4487</th>\n",
       "      <td>28</td>\n",
       "      <td>Madrid</td>\n",
       "      <td>79</td>\n",
       "      <td>Madrid</td>\n",
       "      <td>3305408</td>\n",
       "      <td>1540894</td>\n",
       "      <td>1764514</td>\n",
       "    </tr>\n",
       "  </tbody>\n",
       "</table>\n",
       "</div>"
      ],
      "text/plain": [
       "      CPRO  PROVINCIA  CMUN     NOMBRE    POB21  HOMBRES  MUJERES\n",
       "960      8  Barcelona    19  Barcelona  1636732   778744   857988\n",
       "4487    28     Madrid    79     Madrid  3305408  1540894  1764514"
      ]
     },
     "execution_count": 23,
     "metadata": {},
     "output_type": "execute_result"
    }
   ],
   "source": [
    "data.head()"
   ]
  },
  {
   "cell_type": "code",
   "execution_count": 24,
   "id": "6ba9399c-1955-45a0-bdb5-6270681b04de",
   "metadata": {},
   "outputs": [],
   "source": [
    "high_service = population_data[(population_data[\"POB21\"] >= 500000)]\n",
    "low_service = population_data[(population_data[\"POB21\"] <= 100000)]"
   ]
  },
  {
   "cell_type": "markdown",
   "id": "2bb3076c-3ed2-4320-b00a-1f458ead8beb",
   "metadata": {},
   "source": [
    "The key is wheter we consider that a 100000 to 500000 city has enough resources not to need a car or not"
   ]
  },
  {
   "cell_type": "code",
   "execution_count": 25,
   "id": "96576c8f-dee5-4daa-80ca-5a23d01f213c",
   "metadata": {},
   "outputs": [],
   "source": [
    "key_partition = population_data[(population_data[\"POB21\"] >= 100000) & (population_data[\"POB21\"] < 500000)]"
   ]
  },
  {
   "cell_type": "code",
   "execution_count": 26,
   "id": "038b857f-63c7-4a56-a006-ee3953e08a62",
   "metadata": {},
   "outputs": [
    {
     "data": {
      "text/plain": [
       "<seaborn.axisgrid.FacetGrid at 0x1298c5a50>"
      ]
     },
     "execution_count": 26,
     "metadata": {},
     "output_type": "execute_result"
    },
    {
     "data": {
      "image/png": "[encoded data removed]",
      "text/plain": [
       "<Figure size 500x500 with 1 Axes>"
      ]
     },
     "metadata": {},
     "output_type": "display_data"
    }
   ],
   "source": [
    "sns.displot(key_partition, x=\"POB21\")"
   ]
  },
  {
   "cell_type": "code",
   "execution_count": 27,
   "id": "adedbfad-3372-4417-bf15-8f6a0517a939",
   "metadata": {},
   "outputs": [
    {
     "data": {
      "text/html": [
       "<div>\n",
       "<style scoped>\n",
       "    .dataframe tbody tr th:only-of-type {\n",
       "        vertical-align: middle;\n",
       "    }\n",
       "\n",
       "    .dataframe tbody tr th {\n",
       "        vertical-align: top;\n",
       "    }\n",
       "\n",
       "    .dataframe thead th {\n",
       "        text-align: right;\n",
       "    }\n",
       "</style>\n",
       "<table border=\"1\" class=\"dataframe\">\n",
       "  <thead>\n",
       "    <tr style=\"text-align: right;\">\n",
       "      <th></th>\n",
       "      <th>CPRO</th>\n",
       "      <th>PROVINCIA</th>\n",
       "      <th>CMUN</th>\n",
       "      <th>NOMBRE</th>\n",
       "      <th>POB21</th>\n",
       "      <th>HOMBRES</th>\n",
       "      <th>MUJERES</th>\n",
       "    </tr>\n",
       "  </thead>\n",
       "  <tbody>\n",
       "    <tr>\n",
       "      <th>2</th>\n",
       "      <td>2</td>\n",
       "      <td>Albacete</td>\n",
       "      <td>3</td>\n",
       "      <td>Albacete</td>\n",
       "      <td>172722</td>\n",
       "      <td>84365</td>\n",
       "      <td>88357</td>\n",
       "    </tr>\n",
       "    <tr>\n",
       "      <th>99</th>\n",
       "      <td>3</td>\n",
       "      <td>Alicante/Alacant</td>\n",
       "      <td>14</td>\n",
       "      <td>Alicante/Alacant</td>\n",
       "      <td>337304</td>\n",
       "      <td>163052</td>\n",
       "      <td>174252</td>\n",
       "    </tr>\n",
       "    <tr>\n",
       "      <th>151</th>\n",
       "      <td>3</td>\n",
       "      <td>Alicante/Alacant</td>\n",
       "      <td>65</td>\n",
       "      <td>Elche/Elx</td>\n",
       "      <td>234205</td>\n",
       "      <td>116222</td>\n",
       "      <td>117983</td>\n",
       "    </tr>\n",
       "    <tr>\n",
       "      <th>240</th>\n",
       "      <td>4</td>\n",
       "      <td>Almería</td>\n",
       "      <td>13</td>\n",
       "      <td>Almería</td>\n",
       "      <td>200753</td>\n",
       "      <td>98141</td>\n",
       "      <td>102612</td>\n",
       "    </tr>\n",
       "    <tr>\n",
       "      <th>376</th>\n",
       "      <td>1</td>\n",
       "      <td>Araba/Álava</td>\n",
       "      <td>59</td>\n",
       "      <td>Vitoria-Gasteiz</td>\n",
       "      <td>253093</td>\n",
       "      <td>123092</td>\n",
       "      <td>130001</td>\n",
       "    </tr>\n",
       "    <tr>\n",
       "      <th>405</th>\n",
       "      <td>33</td>\n",
       "      <td>Asturias</td>\n",
       "      <td>24</td>\n",
       "      <td>Gijón</td>\n",
       "      <td>268896</td>\n",
       "      <td>126485</td>\n",
       "      <td>142411</td>\n",
       "    </tr>\n",
       "    <tr>\n",
       "      <th>424</th>\n",
       "      <td>33</td>\n",
       "      <td>Asturias</td>\n",
       "      <td>44</td>\n",
       "      <td>Oviedo</td>\n",
       "      <td>217552</td>\n",
       "      <td>100622</td>\n",
       "      <td>116930</td>\n",
       "    </tr>\n",
       "    <tr>\n",
       "      <th>722</th>\n",
       "      <td>6</td>\n",
       "      <td>Badajoz</td>\n",
       "      <td>15</td>\n",
       "      <td>Badajoz</td>\n",
       "      <td>150610</td>\n",
       "      <td>72942</td>\n",
       "      <td>77668</td>\n",
       "    </tr>\n",
       "    <tr>\n",
       "      <th>915</th>\n",
       "      <td>7</td>\n",
       "      <td>Balears, Illes</td>\n",
       "      <td>40</td>\n",
       "      <td>Palma</td>\n",
       "      <td>419366</td>\n",
       "      <td>205249</td>\n",
       "      <td>214117</td>\n",
       "    </tr>\n",
       "    <tr>\n",
       "      <th>954</th>\n",
       "      <td>8</td>\n",
       "      <td>Barcelona</td>\n",
       "      <td>15</td>\n",
       "      <td>Badalona</td>\n",
       "      <td>223006</td>\n",
       "      <td>110001</td>\n",
       "      <td>113005</td>\n",
       "    </tr>\n",
       "    <tr>\n",
       "      <th>1045</th>\n",
       "      <td>8</td>\n",
       "      <td>Barcelona</td>\n",
       "      <td>101</td>\n",
       "      <td>Hospitalet de Llobregat, L'</td>\n",
       "      <td>264657</td>\n",
       "      <td>127991</td>\n",
       "      <td>136666</td>\n",
       "    </tr>\n",
       "    <tr>\n",
       "      <th>1067</th>\n",
       "      <td>8</td>\n",
       "      <td>Barcelona</td>\n",
       "      <td>121</td>\n",
       "      <td>Mataró</td>\n",
       "      <td>129120</td>\n",
       "      <td>64086</td>\n",
       "      <td>65034</td>\n",
       "    </tr>\n",
       "    <tr>\n",
       "      <th>1132</th>\n",
       "      <td>8</td>\n",
       "      <td>Barcelona</td>\n",
       "      <td>187</td>\n",
       "      <td>Sabadell</td>\n",
       "      <td>216204</td>\n",
       "      <td>105076</td>\n",
       "      <td>111128</td>\n",
       "    </tr>\n",
       "    <tr>\n",
       "      <th>1191</th>\n",
       "      <td>8</td>\n",
       "      <td>Barcelona</td>\n",
       "      <td>245</td>\n",
       "      <td>Santa Coloma de Gramenet</td>\n",
       "      <td>119289</td>\n",
       "      <td>58879</td>\n",
       "      <td>60410</td>\n",
       "    </tr>\n",
       "    <tr>\n",
       "      <th>1220</th>\n",
       "      <td>8</td>\n",
       "      <td>Barcelona</td>\n",
       "      <td>279</td>\n",
       "      <td>Terrassa</td>\n",
       "      <td>223011</td>\n",
       "      <td>109645</td>\n",
       "      <td>113366</td>\n",
       "    </tr>\n",
       "    <tr>\n",
       "      <th>1270</th>\n",
       "      <td>48</td>\n",
       "      <td>Bizkaia</td>\n",
       "      <td>13</td>\n",
       "      <td>Barakaldo</td>\n",
       "      <td>100907</td>\n",
       "      <td>48656</td>\n",
       "      <td>52251</td>\n",
       "    </tr>\n",
       "    <tr>\n",
       "      <th>1278</th>\n",
       "      <td>48</td>\n",
       "      <td>Bizkaia</td>\n",
       "      <td>20</td>\n",
       "      <td>Bilbao</td>\n",
       "      <td>346405</td>\n",
       "      <td>163802</td>\n",
       "      <td>182603</td>\n",
       "    </tr>\n",
       "    <tr>\n",
       "      <th>1411</th>\n",
       "      <td>9</td>\n",
       "      <td>Burgos</td>\n",
       "      <td>59</td>\n",
       "      <td>Burgos</td>\n",
       "      <td>174051</td>\n",
       "      <td>82859</td>\n",
       "      <td>91192</td>\n",
       "    </tr>\n",
       "    <tr>\n",
       "      <th>1960</th>\n",
       "      <td>11</td>\n",
       "      <td>Cádiz</td>\n",
       "      <td>4</td>\n",
       "      <td>Algeciras</td>\n",
       "      <td>122982</td>\n",
       "      <td>60664</td>\n",
       "      <td>62318</td>\n",
       "    </tr>\n",
       "    <tr>\n",
       "      <th>1969</th>\n",
       "      <td>11</td>\n",
       "      <td>Cádiz</td>\n",
       "      <td>12</td>\n",
       "      <td>Cádiz</td>\n",
       "      <td>114244</td>\n",
       "      <td>53995</td>\n",
       "      <td>60249</td>\n",
       "    </tr>\n",
       "    <tr>\n",
       "      <th>1977</th>\n",
       "      <td>11</td>\n",
       "      <td>Cádiz</td>\n",
       "      <td>20</td>\n",
       "      <td>Jerez de la Frontera</td>\n",
       "      <td>212801</td>\n",
       "      <td>103879</td>\n",
       "      <td>108922</td>\n",
       "    </tr>\n",
       "    <tr>\n",
       "      <th>2077</th>\n",
       "      <td>39</td>\n",
       "      <td>Cantabria</td>\n",
       "      <td>75</td>\n",
       "      <td>Santander</td>\n",
       "      <td>172221</td>\n",
       "      <td>79453</td>\n",
       "      <td>92768</td>\n",
       "    </tr>\n",
       "    <tr>\n",
       "      <th>2140</th>\n",
       "      <td>12</td>\n",
       "      <td>Castellón/Castelló</td>\n",
       "      <td>40</td>\n",
       "      <td>Castelló de la Plana</td>\n",
       "      <td>172589</td>\n",
       "      <td>83337</td>\n",
       "      <td>89252</td>\n",
       "    </tr>\n",
       "    <tr>\n",
       "      <th>2362</th>\n",
       "      <td>14</td>\n",
       "      <td>Córdoba</td>\n",
       "      <td>21</td>\n",
       "      <td>Córdoba</td>\n",
       "      <td>322071</td>\n",
       "      <td>154617</td>\n",
       "      <td>167454</td>\n",
       "    </tr>\n",
       "    <tr>\n",
       "      <th>2448</th>\n",
       "      <td>15</td>\n",
       "      <td>Coruña, A</td>\n",
       "      <td>30</td>\n",
       "      <td>Coruña, A</td>\n",
       "      <td>245468</td>\n",
       "      <td>113806</td>\n",
       "      <td>131662</td>\n",
       "    </tr>\n",
       "    <tr>\n",
       "      <th>2780</th>\n",
       "      <td>20</td>\n",
       "      <td>Gipuzkoa</td>\n",
       "      <td>69</td>\n",
       "      <td>Donostia/San Sebastián</td>\n",
       "      <td>188102</td>\n",
       "      <td>88861</td>\n",
       "      <td>99241</td>\n",
       "    </tr>\n",
       "    <tr>\n",
       "      <th>2912</th>\n",
       "      <td>17</td>\n",
       "      <td>Girona</td>\n",
       "      <td>79</td>\n",
       "      <td>Girona</td>\n",
       "      <td>101932</td>\n",
       "      <td>49050</td>\n",
       "      <td>52882</td>\n",
       "    </tr>\n",
       "    <tr>\n",
       "      <th>3136</th>\n",
       "      <td>18</td>\n",
       "      <td>Granada</td>\n",
       "      <td>87</td>\n",
       "      <td>Granada</td>\n",
       "      <td>231775</td>\n",
       "      <td>106987</td>\n",
       "      <td>124788</td>\n",
       "    </tr>\n",
       "    <tr>\n",
       "      <th>3561</th>\n",
       "      <td>21</td>\n",
       "      <td>Huelva</td>\n",
       "      <td>41</td>\n",
       "      <td>Huelva</td>\n",
       "      <td>142538</td>\n",
       "      <td>68393</td>\n",
       "      <td>74145</td>\n",
       "    </tr>\n",
       "    <tr>\n",
       "      <th>3850</th>\n",
       "      <td>23</td>\n",
       "      <td>Jaén</td>\n",
       "      <td>50</td>\n",
       "      <td>Jaén</td>\n",
       "      <td>111932</td>\n",
       "      <td>53799</td>\n",
       "      <td>58133</td>\n",
       "    </tr>\n",
       "    <tr>\n",
       "      <th>3981</th>\n",
       "      <td>24</td>\n",
       "      <td>León</td>\n",
       "      <td>89</td>\n",
       "      <td>León</td>\n",
       "      <td>122051</td>\n",
       "      <td>55166</td>\n",
       "      <td>66885</td>\n",
       "    </tr>\n",
       "    <tr>\n",
       "      <th>4223</th>\n",
       "      <td>25</td>\n",
       "      <td>Lleida</td>\n",
       "      <td>120</td>\n",
       "      <td>Lleida</td>\n",
       "      <td>140080</td>\n",
       "      <td>69390</td>\n",
       "      <td>70690</td>\n",
       "    </tr>\n",
       "    <tr>\n",
       "      <th>4413</th>\n",
       "      <td>28</td>\n",
       "      <td>Madrid</td>\n",
       "      <td>5</td>\n",
       "      <td>Alcalá de Henares</td>\n",
       "      <td>195982</td>\n",
       "      <td>95061</td>\n",
       "      <td>100921</td>\n",
       "    </tr>\n",
       "    <tr>\n",
       "      <th>4414</th>\n",
       "      <td>28</td>\n",
       "      <td>Madrid</td>\n",
       "      <td>6</td>\n",
       "      <td>Alcobendas</td>\n",
       "      <td>116589</td>\n",
       "      <td>55719</td>\n",
       "      <td>60870</td>\n",
       "    </tr>\n",
       "    <tr>\n",
       "      <th>4415</th>\n",
       "      <td>28</td>\n",
       "      <td>Madrid</td>\n",
       "      <td>7</td>\n",
       "      <td>Alcorcón</td>\n",
       "      <td>170817</td>\n",
       "      <td>81998</td>\n",
       "      <td>88819</td>\n",
       "    </tr>\n",
       "    <tr>\n",
       "      <th>4466</th>\n",
       "      <td>28</td>\n",
       "      <td>Madrid</td>\n",
       "      <td>58</td>\n",
       "      <td>Fuenlabrada</td>\n",
       "      <td>192233</td>\n",
       "      <td>94533</td>\n",
       "      <td>97700</td>\n",
       "    </tr>\n",
       "    <tr>\n",
       "      <th>4473</th>\n",
       "      <td>28</td>\n",
       "      <td>Madrid</td>\n",
       "      <td>65</td>\n",
       "      <td>Getafe</td>\n",
       "      <td>183095</td>\n",
       "      <td>89299</td>\n",
       "      <td>93796</td>\n",
       "    </tr>\n",
       "    <tr>\n",
       "      <th>4482</th>\n",
       "      <td>28</td>\n",
       "      <td>Madrid</td>\n",
       "      <td>74</td>\n",
       "      <td>Leganés</td>\n",
       "      <td>187762</td>\n",
       "      <td>90732</td>\n",
       "      <td>97030</td>\n",
       "    </tr>\n",
       "    <tr>\n",
       "      <th>4499</th>\n",
       "      <td>28</td>\n",
       "      <td>Madrid</td>\n",
       "      <td>92</td>\n",
       "      <td>Móstoles</td>\n",
       "      <td>209639</td>\n",
       "      <td>101892</td>\n",
       "      <td>107747</td>\n",
       "    </tr>\n",
       "    <tr>\n",
       "      <th>4510</th>\n",
       "      <td>28</td>\n",
       "      <td>Madrid</td>\n",
       "      <td>106</td>\n",
       "      <td>Parla</td>\n",
       "      <td>131689</td>\n",
       "      <td>65505</td>\n",
       "      <td>66184</td>\n",
       "    </tr>\n",
       "    <tr>\n",
       "      <th>4551</th>\n",
       "      <td>28</td>\n",
       "      <td>Madrid</td>\n",
       "      <td>148</td>\n",
       "      <td>Torrejón de Ardoz</td>\n",
       "      <td>132771</td>\n",
       "      <td>65240</td>\n",
       "      <td>67531</td>\n",
       "    </tr>\n",
       "    <tr>\n",
       "      <th>4656</th>\n",
       "      <td>29</td>\n",
       "      <td>Málaga</td>\n",
       "      <td>69</td>\n",
       "      <td>Marbella</td>\n",
       "      <td>147958</td>\n",
       "      <td>70871</td>\n",
       "      <td>77087</td>\n",
       "    </tr>\n",
       "    <tr>\n",
       "      <th>4708</th>\n",
       "      <td>30</td>\n",
       "      <td>Murcia</td>\n",
       "      <td>16</td>\n",
       "      <td>Cartagena</td>\n",
       "      <td>216365</td>\n",
       "      <td>107458</td>\n",
       "      <td>108907</td>\n",
       "    </tr>\n",
       "    <tr>\n",
       "      <th>4722</th>\n",
       "      <td>30</td>\n",
       "      <td>Murcia</td>\n",
       "      <td>30</td>\n",
       "      <td>Murcia</td>\n",
       "      <td>460349</td>\n",
       "      <td>225606</td>\n",
       "      <td>234743</td>\n",
       "    </tr>\n",
       "    <tr>\n",
       "      <th>4947</th>\n",
       "      <td>31</td>\n",
       "      <td>Navarra</td>\n",
       "      <td>201</td>\n",
       "      <td>Pamplona/Iruña</td>\n",
       "      <td>203081</td>\n",
       "      <td>95849</td>\n",
       "      <td>107232</td>\n",
       "    </tr>\n",
       "    <tr>\n",
       "      <th>5059</th>\n",
       "      <td>32</td>\n",
       "      <td>Ourense</td>\n",
       "      <td>54</td>\n",
       "      <td>Ourense</td>\n",
       "      <td>104596</td>\n",
       "      <td>47408</td>\n",
       "      <td>57188</td>\n",
       "    </tr>\n",
       "    <tr>\n",
       "      <th>5308</th>\n",
       "      <td>35</td>\n",
       "      <td>Palmas, Las</td>\n",
       "      <td>16</td>\n",
       "      <td>Palmas de Gran Canaria, Las</td>\n",
       "      <td>378675</td>\n",
       "      <td>182571</td>\n",
       "      <td>196104</td>\n",
       "    </tr>\n",
       "    <tr>\n",
       "      <th>5317</th>\n",
       "      <td>35</td>\n",
       "      <td>Palmas, Las</td>\n",
       "      <td>26</td>\n",
       "      <td>Telde</td>\n",
       "      <td>102769</td>\n",
       "      <td>50464</td>\n",
       "      <td>52305</td>\n",
       "    </tr>\n",
       "    <tr>\n",
       "      <th>5382</th>\n",
       "      <td>36</td>\n",
       "      <td>Pontevedra</td>\n",
       "      <td>57</td>\n",
       "      <td>Vigo</td>\n",
       "      <td>293837</td>\n",
       "      <td>138634</td>\n",
       "      <td>155203</td>\n",
       "    </tr>\n",
       "    <tr>\n",
       "      <th>5474</th>\n",
       "      <td>26</td>\n",
       "      <td>Rioja, La</td>\n",
       "      <td>89</td>\n",
       "      <td>Logroño</td>\n",
       "      <td>150808</td>\n",
       "      <td>71462</td>\n",
       "      <td>79346</td>\n",
       "    </tr>\n",
       "    <tr>\n",
       "      <th>5817</th>\n",
       "      <td>37</td>\n",
       "      <td>Salamanca</td>\n",
       "      <td>274</td>\n",
       "      <td>Salamanca</td>\n",
       "      <td>143269</td>\n",
       "      <td>64867</td>\n",
       "      <td>78402</td>\n",
       "    </tr>\n",
       "    <tr>\n",
       "      <th>5956</th>\n",
       "      <td>38</td>\n",
       "      <td>Santa Cruz de Tenerife</td>\n",
       "      <td>23</td>\n",
       "      <td>San Cristóbal de La Laguna</td>\n",
       "      <td>158010</td>\n",
       "      <td>76117</td>\n",
       "      <td>81893</td>\n",
       "    </tr>\n",
       "    <tr>\n",
       "      <th>5961</th>\n",
       "      <td>38</td>\n",
       "      <td>Santa Cruz de Tenerife</td>\n",
       "      <td>38</td>\n",
       "      <td>Santa Cruz de Tenerife</td>\n",
       "      <td>208563</td>\n",
       "      <td>99438</td>\n",
       "      <td>109125</td>\n",
       "    </tr>\n",
       "    <tr>\n",
       "      <th>6225</th>\n",
       "      <td>41</td>\n",
       "      <td>Sevilla</td>\n",
       "      <td>38</td>\n",
       "      <td>Dos Hermanas</td>\n",
       "      <td>136250</td>\n",
       "      <td>66833</td>\n",
       "      <td>69417</td>\n",
       "    </tr>\n",
       "    <tr>\n",
       "      <th>6600</th>\n",
       "      <td>43</td>\n",
       "      <td>Tarragona</td>\n",
       "      <td>123</td>\n",
       "      <td>Reus</td>\n",
       "      <td>106084</td>\n",
       "      <td>51298</td>\n",
       "      <td>54786</td>\n",
       "    </tr>\n",
       "    <tr>\n",
       "      <th>6627</th>\n",
       "      <td>43</td>\n",
       "      <td>Tarragona</td>\n",
       "      <td>148</td>\n",
       "      <td>Tarragona</td>\n",
       "      <td>135436</td>\n",
       "      <td>66116</td>\n",
       "      <td>69320</td>\n",
       "    </tr>\n",
       "    <tr>\n",
       "      <th>7543</th>\n",
       "      <td>47</td>\n",
       "      <td>Valladolid</td>\n",
       "      <td>186</td>\n",
       "      <td>Valladolid</td>\n",
       "      <td>297775</td>\n",
       "      <td>139534</td>\n",
       "      <td>158241</td>\n",
       "    </tr>\n",
       "  </tbody>\n",
       "</table>\n",
       "</div>"
      ],
      "text/plain": [
       "      CPRO               PROVINCIA  CMUN                       NOMBRE   POB21  \\\n",
       "2        2                Albacete     3                     Albacete  172722   \n",
       "99       3        Alicante/Alacant    14             Alicante/Alacant  337304   \n",
       "151      3        Alicante/Alacant    65                    Elche/Elx  234205   \n",
       "240      4                 Almería    13                      Almería  200753   \n",
       "376      1             Araba/Álava    59              Vitoria-Gasteiz  253093   \n",
       "405     33                Asturias    24                        Gijón  268896   \n",
       "424     33                Asturias    44                       Oviedo  217552   \n",
       "722      6                 Badajoz    15                      Badajoz  150610   \n",
       "915      7          Balears, Illes    40                        Palma  419366   \n",
       "954      8               Barcelona    15                     Badalona  223006   \n",
       "1045     8               Barcelona   101  Hospitalet de Llobregat, L'  264657   \n",
       "1067     8               Barcelona   121                       Mataró  129120   \n",
       "1132     8               Barcelona   187                     Sabadell  216204   \n",
       "1191     8               Barcelona   245     Santa Coloma de Gramenet  119289   \n",
       "1220     8               Barcelona   279                     Terrassa  223011   \n",
       "1270    48                 Bizkaia    13                    Barakaldo  100907   \n",
       "1278    48                 Bizkaia    20                       Bilbao  346405   \n",
       "1411     9                  Burgos    59                       Burgos  174051   \n",
       "1960    11                   Cádiz     4                    Algeciras  122982   \n",
       "1969    11                   Cádiz    12                        Cádiz  114244   \n",
       "1977    11                   Cádiz    20         Jerez de la Frontera  212801   \n",
       "2077    39               Cantabria    75                    Santander  172221   \n",
       "2140    12      Castellón/Castelló    40         Castelló de la Plana  172589   \n",
       "2362    14                 Córdoba    21                      Córdoba  322071   \n",
       "2448    15               Coruña, A    30                    Coruña, A  245468   \n",
       "2780    20                Gipuzkoa    69       Donostia/San Sebastián  188102   \n",
       "2912    17                  Girona    79                       Girona  101932   \n",
       "3136    18                 Granada    87                      Granada  231775   \n",
       "3561    21                  Huelva    41                       Huelva  142538   \n",
       "3850    23                    Jaén    50                         Jaén  111932   \n",
       "3981    24                    León    89                         León  122051   \n",
       "4223    25                  Lleida   120                       Lleida  140080   \n",
       "4413    28                  Madrid     5            Alcalá de Henares  195982   \n",
       "4414    28                  Madrid     6                   Alcobendas  116589   \n",
       "4415    28                  Madrid     7                     Alcorcón  170817   \n",
       "4466    28                  Madrid    58                  Fuenlabrada  192233   \n",
       "4473    28                  Madrid    65                       Getafe  183095   \n",
       "4482    28                  Madrid    74                      Leganés  187762   \n",
       "4499    28                  Madrid    92                     Móstoles  209639   \n",
       "4510    28                  Madrid   106                        Parla  131689   \n",
       "4551    28                  Madrid   148            Torrejón de Ardoz  132771   \n",
       "4656    29                  Málaga    69                     Marbella  147958   \n",
       "4708    30                  Murcia    16                    Cartagena  216365   \n",
       "4722    30                  Murcia    30                       Murcia  460349   \n",
       "4947    31                 Navarra   201               Pamplona/Iruña  203081   \n",
       "5059    32                 Ourense    54                      Ourense  104596   \n",
       "5308    35             Palmas, Las    16  Palmas de Gran Canaria, Las  378675   \n",
       "5317    35             Palmas, Las    26                        Telde  102769   \n",
       "5382    36              Pontevedra    57                         Vigo  293837   \n",
       "5474    26               Rioja, La    89                      Logroño  150808   \n",
       "5817    37               Salamanca   274                    Salamanca  143269   \n",
       "5956    38  Santa Cruz de Tenerife    23   San Cristóbal de La Laguna  158010   \n",
       "5961    38  Santa Cruz de Tenerife    38       Santa Cruz de Tenerife  208563   \n",
       "6225    41                 Sevilla    38                 Dos Hermanas  136250   \n",
       "6600    43               Tarragona   123                         Reus  106084   \n",
       "6627    43               Tarragona   148                    Tarragona  135436   \n",
       "7543    47              Valladolid   186                   Valladolid  297775   \n",
       "\n",
       "      HOMBRES  MUJERES  \n",
       "2       84365    88357  \n",
       "99     163052   174252  \n",
       "151    116222   117983  \n",
       "240     98141   102612  \n",
       "376    123092   130001  \n",
       "405    126485   142411  \n",
       "424    100622   116930  \n",
       "722     72942    77668  \n",
       "915    205249   214117  \n",
       "954    110001   113005  \n",
       "1045   127991   136666  \n",
       "1067    64086    65034  \n",
       "1132   105076   111128  \n",
       "1191    58879    60410  \n",
       "1220   109645   113366  \n",
       "1270    48656    52251  \n",
       "1278   163802   182603  \n",
       "1411    82859    91192  \n",
       "1960    60664    62318  \n",
       "1969    53995    60249  \n",
       "1977   103879   108922  \n",
       "2077    79453    92768  \n",
       "2140    83337    89252  \n",
       "2362   154617   167454  \n",
       "2448   113806   131662  \n",
       "2780    88861    99241  \n",
       "2912    49050    52882  \n",
       "3136   106987   124788  \n",
       "3561    68393    74145  \n",
       "3850    53799    58133  \n",
       "3981    55166    66885  \n",
       "4223    69390    70690  \n",
       "4413    95061   100921  \n",
       "4414    55719    60870  \n",
       "4415    81998    88819  \n",
       "4466    94533    97700  \n",
       "4473    89299    93796  \n",
       "4482    90732    97030  \n",
       "4499   101892   107747  \n",
       "4510    65505    66184  \n",
       "4551    65240    67531  \n",
       "4656    70871    77087  \n",
       "4708   107458   108907  \n",
       "4722   225606   234743  \n",
       "4947    95849   107232  \n",
       "5059    47408    57188  \n",
       "5308   182571   196104  \n",
       "5317    50464    52305  \n",
       "5382   138634   155203  \n",
       "5474    71462    79346  \n",
       "5817    64867    78402  \n",
       "5956    76117    81893  \n",
       "5961    99438   109125  \n",
       "6225    66833    69417  \n",
       "6600    51298    54786  \n",
       "6627    66116    69320  \n",
       "7543   139534   158241  "
      ]
     },
     "execution_count": 27,
     "metadata": {},
     "output_type": "execute_result"
    }
   ],
   "source": [
    "key_partition"
   ]
  },
  {
   "cell_type": "code",
   "execution_count": 28,
   "id": "d4cbddb4-1d91-4976-9791-8733073eba35",
   "metadata": {
    "tags": []
   },
   "outputs": [],
   "source": [
    "lower = key_partition[\"POB21\"][key_partition[\"POB21\"] <= 250000].sum()\n",
    "upper = key_partition[\"POB21\"][key_partition[\"POB21\"] > 250000].sum()"
   ]
  },
  {
   "cell_type": "code",
   "execution_count": 30,
   "id": "d3f0d17d-d727-4581-aceb-18f5eadc2bbc",
   "metadata": {},
   "outputs": [
    {
     "name": "stdout",
     "output_type": "stream",
     "text": [
      " High 23.870901040700403\n",
      " Low 76.1290989592996\n"
     ]
    }
   ],
   "source": [
    "print(f' High {round(high_service[\"POB21\"].sum() + upper, 2)/ total_population * 100}') \n",
    "print(f' Low {round(low_service[\"POB21\"].sum() + lower, 2)/ total_population * 100}') "
   ]
  },
  {
   "cell_type": "markdown",
   "id": "7c0b582d-422c-44cf-ac8e-fb68fca51237",
   "metadata": {},
   "source": [
    "##### Conclusion 3: More variables"
   ]
  },
  {
   "cell_type": "markdown",
   "id": "ad9f9cc7-a32b-4ceb-bcf8-ed2c93e58755",
   "metadata": {},
   "source": [
    "According to just population we can assume that 76.12% live in less populated areas. However we have not included characteristics (ages, number of working people etc) and the city characteristics (sparsity, public transport level, number of working people, ...). The only proxy for service level is the number of habitants. "
   ]
  },
  {
   "cell_type": "code",
   "execution_count": null,
   "id": "47812c5f-ee40-42d8-ae24-6ece84c7ecb4",
   "metadata": {},
   "outputs": [],
   "source": []
  }
 ],
 "metadata": {
  "kernelspec": {
   "display_name": "Python 3 (ipykernel)",
   "language": "python",
   "name": "python3"
  },
  "language_info": {
   "codemirror_mode": {
    "name": "ipython",
    "version": 3
   },
   "file_extension": ".py",
   "mimetype": "text/x-python",
   "name": "python",
   "nbconvert_exporter": "python",
   "pygments_lexer": "ipython3",
   "version": "3.10.5"
  }
 },
 "nbformat": 4,
 "nbformat_minor": 5
}
